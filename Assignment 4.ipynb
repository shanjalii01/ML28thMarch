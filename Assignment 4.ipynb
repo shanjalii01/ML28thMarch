{
 "cells": [
  {
   "cell_type": "markdown",
   "metadata": {},
   "source": [
    "Problem 1.1 Write a Python Program(with class concepts) to find the area of the triangle using the below formula.\n",
    "area = (s*(s-a)*(s-b)*(s-c)) ** 0.5\n",
    "Function to take the length of the sides of triangle from user should be defined in the parent class and function to calculate the area should be defined in subclass."
   ]
  },
  {
   "cell_type": "code",
   "execution_count": 1,
   "metadata": {},
   "outputs": [
    {
     "data": {
      "text/plain": [
       "4.21875"
      ]
     },
     "execution_count": 1,
     "metadata": {},
     "output_type": "execute_result"
    }
   ],
   "source": [
    "class area:\n",
    "    def __init__(self, a,b,c):\n",
    "        self.a = a\n",
    "        self.b= b\n",
    "        self.c=c\n",
    "    def area_triangle(self):\n",
    "        s=(self.a+self.b+self.c)/2\n",
    "        area=(s*(s-self.a)*(s-self.b)*(s-self.c)) * 0.5\n",
    "        return area\n",
    "\n",
    "obj=area(2,3,4)\n",
    "obj.area_triangle()"
   ]
  },
  {
   "cell_type": "markdown",
   "metadata": {},
   "source": [
    "Problem 1.2 Write a function filter_long_words() that takes a list of words and an integer n and returns the list of words that are longer than n."
   ]
  },
  {
   "cell_type": "code",
   "execution_count": 2,
   "metadata": {},
   "outputs": [
    {
     "name": "stdout",
     "output_type": "stream",
     "text": [
      "['efgh', 'dfgth', 'vbcfd']\n"
     ]
    }
   ],
   "source": [
    "lst=['abc','cde','efgh','dfgth','bsd','vbcfd']\n",
    "integer=3\n",
    "filtered_lst=[]\n",
    "def filter_long_words(elements, n):\n",
    "    for i in range(len(elements)):\n",
    "        if n<len(elements[i]):\n",
    "            filtered_lst.append(elements[i])\n",
    "    print(filtered_lst)\n",
    "\n",
    "filter_long_words(lst,integer)"
   ]
  },
  {
   "cell_type": "markdown",
   "metadata": {},
   "source": [
    "Problem 2.1 Write a Python program using function concept that maps list of words into a list of integers representing the lengths of the corresponding words.\n",
    "Hint: If a list [ ab,cde,erty] is passed on to the python function output should come as [2,3,4] Here 2,3 and 4 are the lengths of the words in the list."
   ]
  },
  {
   "cell_type": "code",
   "execution_count": 3,
   "metadata": {},
   "outputs": [
    {
     "name": "stdout",
     "output_type": "stream",
     "text": [
      "length of strings in a given list [3, 3, 4]\n"
     ]
    }
   ],
   "source": [
    "lst=['abc','cde','efgh']\n",
    "def getLength(elements):\n",
    "    for elem in elements.split():\n",
    "        return len(elem)\n",
    "    \n",
    "a=map(getLength, lst)\n",
    "print(\"length of strings in a given list\",list(a))"
   ]
  },
  {
   "cell_type": "markdown",
   "metadata": {},
   "source": [
    "Problem 2.2 Write a Python function which takes a character (i.e. a string of length 1) and returns True if it is a vowel, False otherwise."
   ]
  },
  {
   "cell_type": "code",
   "execution_count": 4,
   "metadata": {},
   "outputs": [
    {
     "name": "stdout",
     "output_type": "stream",
     "text": [
      "Enter a letter: s\n"
     ]
    },
    {
     "data": {
      "text/plain": [
       "'False'"
      ]
     },
     "execution_count": 4,
     "metadata": {},
     "output_type": "execute_result"
    }
   ],
   "source": [
    "#defining a fuction to check if char is vowel\n",
    "def find_vowel(char):\n",
    "    vowels=['a','e','i','o','u']\n",
    "    if (char in vowels):\n",
    "        return \"Truel\"\n",
    "    else:\n",
    "        return \"False\"\n",
    "\n",
    "char=input(\"Enter a letter: \")\n",
    "find_vowel(char)"
   ]
  }
 ],
 "metadata": {
  "kernelspec": {
   "display_name": "Python 3",
   "language": "python",
   "name": "python3"
  },
  "language_info": {
   "codemirror_mode": {
    "name": "ipython",
    "version": 3
   },
   "file_extension": ".py",
   "mimetype": "text/x-python",
   "name": "python",
   "nbconvert_exporter": "python",
   "pygments_lexer": "ipython3",
   "version": "3.7.4"
  }
 },
 "nbformat": 4,
 "nbformat_minor": 2
}
